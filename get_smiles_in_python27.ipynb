{
 "cells": [
  {
   "cell_type": "code",
   "execution_count": null,
   "id": "a271ceba",
   "metadata": {},
   "outputs": [],
   "source": [
    "# Copy this script sau đó mới vào python 2.7\n",
    "cd \"C:\\Users\\Henry Kha\\Google Drive\\CODE PYTHON\\Tuong tac thuoc thuc pham (Python 2)\\clinical_recommendation\""
   ]
  },
  {
   "cell_type": "code",
   "execution_count": null,
   "id": "6565ca06",
   "metadata": {},
   "outputs": [],
   "source": [
    "from PyBioMed.PyInteraction import PyInteraction \n",
    "from PyBioMed.PyMolecule import moe \n",
    "from rdkit import Chem   \n",
    "import pandas as pd\n",
    "import csv\n",
    "import random\n",
    "import os\n",
    "\n",
    "drug = raw_input()"
   ]
  },
  {
   "cell_type": "code",
   "execution_count": null,
   "id": "70b70ba6",
   "metadata": {},
   "outputs": [],
   "source": [
    "food = raw_input()"
   ]
  },
  {
   "cell_type": "code",
   "execution_count": null,
   "id": "94bfa1cd",
   "metadata": {},
   "outputs": [],
   "source": [
    "cd \"C:\\Users\\Henry Kha\\Google Drive\\CODE PYTHON\\Tuong tac thuoc thuc pham (Python 2)\\clinical_recommendation\""
   ]
  },
  {
   "cell_type": "code",
   "execution_count": null,
   "id": "deae895a",
   "metadata": {},
   "outputs": [],
   "source": [
    "def extract(drug,food):\n",
    "    drug_data=pd.read_csv(\"drugs.csv\",index_col='drug_name')\n",
    "    drug_smiles=drug_data.loc[drug,\"drug_smiles\"]\n",
    "    food_data=pd.read_csv(\"food.csv\", index_col='food_name')\n",
    "    food_smiles=food_data.loc[food,\"food_smiles\"]\n",
    "    m_drug = Chem.MolFromSmiles(drug_smiles)\n",
    "    m_food=Chem.MolFromSmiles(food_smiles)\n",
    "    mol_des_drug = moe.GetMOE(m_drug)\n",
    "    mol_des_food=moe.GetMOE(m_food)\n",
    "    mol_mol_interaction1 = PyInteraction.CalculateInteraction1(mol_des_drug,mol_des_food)\n",
    "    mol_mol_interaction2 = PyInteraction.CalculateInteraction2(mol_des_drug,mol_des_food)\n",
    "    mol_mol_interaction3 = PyInteraction.CalculateInteraction3(mol_des_drug,mol_des_food)\n",
    "    mol_mol_interaction1.update(mol_mol_interaction2)\n",
    "    mol_mol_interaction1.update(mol_mol_interaction3)\n",
    "    df_mol_mol_interaction1=pd.DataFrame.from_dict(mol_mol_interaction1,orient=\"index\").transpose()\n",
    "    rcv_list = ['MTPSA+MTPSA', 'MRVSA1', 'VSAEstate7', 'PEOEVSA5', 'slogPVSA2']\n",
    "    X=df_mol_mol_interaction1.loc[:,rcv_list]\n",
    "    X[\"drug\"] = drug\n",
    "    X[\"food\"] = food\n",
    "    return X.to_csv(\"dfi.csv\",index=False)"
   ]
  }
 ],
 "metadata": {
  "kernelspec": {
   "display_name": "Python 3 (ipykernel)",
   "language": "python",
   "name": "python3"
  },
  "language_info": {
   "codemirror_mode": {
    "name": "ipython",
    "version": 3
   },
   "file_extension": ".py",
   "mimetype": "text/x-python",
   "name": "python",
   "nbconvert_exporter": "python",
   "pygments_lexer": "ipython3",
   "version": "3.9.12"
  }
 },
 "nbformat": 4,
 "nbformat_minor": 5
}
