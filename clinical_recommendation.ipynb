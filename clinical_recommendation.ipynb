{
 "cells": [
  {
   "cell_type": "code",
   "execution_count": 17,
   "id": "538d95da",
   "metadata": {},
   "outputs": [],
   "source": [
    "import pandas as pd\n",
    "import csv\n",
    "import random\n",
    "import os\n",
    "import pickle"
   ]
  },
  {
   "cell_type": "code",
   "execution_count": 18,
   "id": "898a2b32",
   "metadata": {},
   "outputs": [],
   "source": [
    "loaded_model = pickle.load(open(\"C:\Users\Henry Kha\OneDrive - 臺北醫學大學\Desktop\dfi_modified\best_model\XGB-tuned.sav\", 'rb'))\n",
    "def predict(df):\n",
    "    X = df.drop([\"food\",\"drug\"],axis=1)\n",
    "    drug = df[\"drug\"][0]\n",
    "    food = df[\"food\"][0]\n",
    "    prediction = loaded_model.predict(X)\n",
    "    return print(\"{} should not be taken with food containing {}\".format(drug,food)) if prediction == 0 else print(\"{} may be taken with food containing {}\".format(drug,food))"
   ]
  },
  {
   "cell_type": "code",
   "execution_count": 27,
   "id": "1e23df25",
   "metadata": {},
   "outputs": [
    {
     "name": "stdout",
     "output_type": "stream",
     "text": [
      "Warfarin should not be taken with food containing Dimethyl disulfide\n"
     ]
    }
   ],
   "source": [
    "dfi = pd.read_csv(\"dfi.csv\")\n",
    "predict(dfi)"
   ]
  },
  {
   "cell_type": "code",
   "execution_count": null,
   "id": "de4d5193",
   "metadata": {},
   "outputs": [],
   "source": []
  }
 ],
 "metadata": {
  "kernelspec": {
   "display_name": "Python 3 (ipykernel)",
   "language": "python",
   "name": "python3"
  },
  "language_info": {
   "codemirror_mode": {
    "name": "ipython",
    "version": 3
   },
   "file_extension": ".py",
   "mimetype": "text/x-python",
   "name": "python",
   "nbconvert_exporter": "python",
   "pygments_lexer": "ipython3",
   "version": "3.9.12"
  },
  "toc": {
   "base_numbering": 1,
   "nav_menu": {},
   "number_sections": true,
   "sideBar": true,
   "skip_h1_title": false,
   "title_cell": "Table of Contents",
   "title_sidebar": "Contents",
   "toc_cell": false,
   "toc_position": {},
   "toc_section_display": true,
   "toc_window_display": false
  },
  "varInspector": {
   "cols": {
    "lenName": 16,
    "lenType": 16,
    "lenVar": 40
   },
   "kernels_config": {
    "python": {
     "delete_cmd_postfix": "",
     "delete_cmd_prefix": "del ",
     "library": "var_list.py",
     "varRefreshCmd": "print(var_dic_list())"
    },
    "r": {
     "delete_cmd_postfix": ") ",
     "delete_cmd_prefix": "rm(",
     "library": "var_list.r",
     "varRefreshCmd": "cat(var_dic_list()) "
    }
   },
   "types_to_exclude": [
    "module",
    "function",
    "builtin_function_or_method",
    "instance",
    "_Feature"
   ],
   "window_display": false
  }
 },
 "nbformat": 4,
 "nbformat_minor": 5
}
